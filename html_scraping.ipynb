{
 "cells": [
  {
   "cell_type": "code",
   "execution_count": 21,
   "id": "fe715e2c",
   "metadata": {},
   "outputs": [
    {
     "name": "stdout",
     "output_type": "stream",
     "text": [
      "Scraping Page 1...\n",
      "Scraping Page 2...\n",
      "Scraping Page 3...\n",
      "Scraping Page 4...\n",
      "Scraping Page 5...\n",
      "Scraping complete. Data saved to books.csv\n"
     ]
    }
   ],
   "source": [
    "import requests\n",
    "from bs4 import BeautifulSoup\n",
    "import pandas as pd\n",
    "\n",
    "base_url = \"http://books.toscrape.com/\"\n",
    "titles = []\n",
    "\n",
    "for page in range(1, 6):  # scrape first 5 pages\n",
    "    print(f\"Scraping Page {page}...\")\n",
    "    url = base_url.format(page)\n",
    "    res = requests.get(url)\n",
    "    soup = BeautifulSoup(res.text, 'html.parser')\n",
    "\n",
    "    books = soup.find_all('h3')\n",
    "    for book in books:\n",
    "            title = book.a['title']\n",
    "            titles.append(title)\n",
    "      \n",
    "\n",
    "# Save to CSV\n",
    "df = pd.DataFrame(titles, columns=[\"Book Title\"])\n",
    "df.to_csv(\"books.csv\", index=False)\n",
    "print(\"Scraping complete. Data saved to books.csv\")\n"
   ]
  },
  {
   "cell_type": "code",
   "execution_count": 22,
   "id": "b95732c6",
   "metadata": {},
   "outputs": [
    {
     "data": {
      "text/html": [
       "<div>\n",
       "<style scoped>\n",
       "    .dataframe tbody tr th:only-of-type {\n",
       "        vertical-align: middle;\n",
       "    }\n",
       "\n",
       "    .dataframe tbody tr th {\n",
       "        vertical-align: top;\n",
       "    }\n",
       "\n",
       "    .dataframe thead th {\n",
       "        text-align: right;\n",
       "    }\n",
       "</style>\n",
       "<table border=\"1\" class=\"dataframe\">\n",
       "  <thead>\n",
       "    <tr style=\"text-align: right;\">\n",
       "      <th></th>\n",
       "      <th>Book Title</th>\n",
       "    </tr>\n",
       "  </thead>\n",
       "  <tbody>\n",
       "    <tr>\n",
       "      <th>0</th>\n",
       "      <td>A Light in the Attic</td>\n",
       "    </tr>\n",
       "    <tr>\n",
       "      <th>1</th>\n",
       "      <td>Tipping the Velvet</td>\n",
       "    </tr>\n",
       "    <tr>\n",
       "      <th>2</th>\n",
       "      <td>Soumission</td>\n",
       "    </tr>\n",
       "    <tr>\n",
       "      <th>3</th>\n",
       "      <td>Sharp Objects</td>\n",
       "    </tr>\n",
       "    <tr>\n",
       "      <th>4</th>\n",
       "      <td>Sapiens: A Brief History of Humankind</td>\n",
       "    </tr>\n",
       "    <tr>\n",
       "      <th>...</th>\n",
       "      <td>...</td>\n",
       "    </tr>\n",
       "    <tr>\n",
       "      <th>95</th>\n",
       "      <td>Our Band Could Be Your Life: Scenes from the A...</td>\n",
       "    </tr>\n",
       "    <tr>\n",
       "      <th>96</th>\n",
       "      <td>Olio</td>\n",
       "    </tr>\n",
       "    <tr>\n",
       "      <th>97</th>\n",
       "      <td>Mesaerion: The Best Science Fiction Stories 18...</td>\n",
       "    </tr>\n",
       "    <tr>\n",
       "      <th>98</th>\n",
       "      <td>Libertarianism for Beginners</td>\n",
       "    </tr>\n",
       "    <tr>\n",
       "      <th>99</th>\n",
       "      <td>It's Only the Himalayas</td>\n",
       "    </tr>\n",
       "  </tbody>\n",
       "</table>\n",
       "<p>100 rows × 1 columns</p>\n",
       "</div>"
      ],
      "text/plain": [
       "                                           Book Title\n",
       "0                                A Light in the Attic\n",
       "1                                  Tipping the Velvet\n",
       "2                                          Soumission\n",
       "3                                       Sharp Objects\n",
       "4               Sapiens: A Brief History of Humankind\n",
       "..                                                ...\n",
       "95  Our Band Could Be Your Life: Scenes from the A...\n",
       "96                                               Olio\n",
       "97  Mesaerion: The Best Science Fiction Stories 18...\n",
       "98                       Libertarianism for Beginners\n",
       "99                            It's Only the Himalayas\n",
       "\n",
       "[100 rows x 1 columns]"
      ]
     },
     "execution_count": 22,
     "metadata": {},
     "output_type": "execute_result"
    }
   ],
   "source": [
    "pd.read_csv(\"books.csv\")"
   ]
  },
  {
   "cell_type": "markdown",
   "id": "c0756189",
   "metadata": {},
   "source": [
    "### Web Crawler"
   ]
  },
  {
   "cell_type": "code",
   "execution_count": 14,
   "id": "36c46350",
   "metadata": {},
   "outputs": [
    {
     "name": "stdout",
     "output_type": "stream",
     "text": [
      "Crawling: http://books.toscrape.com/\n",
      "Crawling: http://books.toscrape.com/index.html\n",
      "Crawling: http://books.toscrape.com/catalogue/category/books_1/index.html\n",
      "Crawling: http://books.toscrape.com/catalogue/category/books/travel_2/index.html\n",
      "Crawling: http://books.toscrape.com/catalogue/category/books/mystery_3/index.html\n",
      "Crawling: http://books.toscrape.com/catalogue/category/books/historical-fiction_4/index.html\n",
      "Crawling: http://books.toscrape.com/catalogue/category/books/sequential-art_5/index.html\n",
      "Crawling: http://books.toscrape.com/catalogue/category/books/classics_6/index.html\n",
      "Crawling: http://books.toscrape.com/catalogue/category/books/philosophy_7/index.html\n",
      "Crawling: http://books.toscrape.com/catalogue/category/books/romance_8/index.html\n",
      "Crawling: http://books.toscrape.com/catalogue/category/books/womens-fiction_9/index.html\n",
      "Crawling: http://books.toscrape.com/catalogue/category/books/fiction_10/index.html\n",
      "Crawling: http://books.toscrape.com/catalogue/category/books/childrens_11/index.html\n",
      "Crawling: http://books.toscrape.com/catalogue/category/books/religion_12/index.html\n",
      "Crawling: http://books.toscrape.com/catalogue/category/books/nonfiction_13/index.html\n",
      "Crawling: http://books.toscrape.com/catalogue/category/books/music_14/index.html\n",
      "Crawling: http://books.toscrape.com/catalogue/category/books/default_15/index.html\n",
      "Crawling: http://books.toscrape.com/catalogue/category/books/science-fiction_16/index.html\n",
      "Crawling: http://books.toscrape.com/catalogue/category/books/sports-and-games_17/index.html\n",
      "Crawling: http://books.toscrape.com/catalogue/category/books/add-a-comment_18/index.html\n",
      "Crawling: http://books.toscrape.com/catalogue/category/books/fantasy_19/index.html\n",
      "Crawling: http://books.toscrape.com/catalogue/category/books/new-adult_20/index.html\n",
      "Crawling: http://books.toscrape.com/catalogue/category/books/young-adult_21/index.html\n",
      "Crawling: http://books.toscrape.com/catalogue/category/books/science_22/index.html\n",
      "Crawling: http://books.toscrape.com/catalogue/category/books/poetry_23/index.html\n",
      "Crawling: http://books.toscrape.com/catalogue/category/books/paranormal_24/index.html\n",
      "Crawling: http://books.toscrape.com/catalogue/category/books/art_25/index.html\n",
      "Crawling: http://books.toscrape.com/catalogue/category/books/psychology_26/index.html\n",
      "Crawling: http://books.toscrape.com/catalogue/category/books/autobiography_27/index.html\n",
      "Crawling: http://books.toscrape.com/catalogue/category/books/parenting_28/index.html\n",
      "Crawling: http://books.toscrape.com/catalogue/category/books/adult-fiction_29/index.html\n",
      "Crawling: http://books.toscrape.com/catalogue/category/books/humor_30/index.html\n",
      "Crawling: http://books.toscrape.com/catalogue/category/books/horror_31/index.html\n",
      "Crawling: http://books.toscrape.com/catalogue/category/books/history_32/index.html\n",
      "Crawling: http://books.toscrape.com/catalogue/category/books/food-and-drink_33/index.html\n",
      "Crawling: http://books.toscrape.com/catalogue/category/books/christian-fiction_34/index.html\n",
      "Crawling: http://books.toscrape.com/catalogue/category/books/business_35/index.html\n",
      "Crawling: http://books.toscrape.com/catalogue/category/books/biography_36/index.html\n",
      "Crawling: http://books.toscrape.com/catalogue/category/books/thriller_37/index.html\n",
      "Crawling: http://books.toscrape.com/catalogue/category/books/contemporary_38/index.html\n",
      "Crawling: http://books.toscrape.com/catalogue/category/books/spirituality_39/index.html\n",
      "Crawling: http://books.toscrape.com/catalogue/category/books/academic_40/index.html\n",
      "Crawling: http://books.toscrape.com/catalogue/category/books/self-help_41/index.html\n",
      "Crawling: http://books.toscrape.com/catalogue/category/books/historical_42/index.html\n",
      "Crawling: http://books.toscrape.com/catalogue/category/books/christian_43/index.html\n",
      "Crawling: http://books.toscrape.com/catalogue/category/books/suspense_44/index.html\n",
      "Crawling: http://books.toscrape.com/catalogue/category/books/short-stories_45/index.html\n",
      "Crawling: http://books.toscrape.com/catalogue/category/books/novels_46/index.html\n",
      "Crawling: http://books.toscrape.com/catalogue/category/books/health_47/index.html\n",
      "Crawling: http://books.toscrape.com/catalogue/category/books/politics_48/index.html\n",
      "Crawling: http://books.toscrape.com/catalogue/category/books/cultural_49/index.html\n",
      "Crawling: http://books.toscrape.com/catalogue/category/books/erotica_50/index.html\n",
      "Crawling: http://books.toscrape.com/catalogue/category/books/crime_51/index.html\n",
      "Crawling: http://books.toscrape.com/catalogue/a-light-in-the-attic_1000/index.html\n",
      "Crawling: http://books.toscrape.com/catalogue/tipping-the-velvet_999/index.html\n",
      "Crawling: http://books.toscrape.com/catalogue/soumission_998/index.html\n",
      "Crawling: http://books.toscrape.com/catalogue/sharp-objects_997/index.html\n",
      "Crawling: http://books.toscrape.com/catalogue/sapiens-a-brief-history-of-humankind_996/index.html\n",
      "Crawling: http://books.toscrape.com/catalogue/the-requiem-red_995/index.html\n",
      "Crawling: http://books.toscrape.com/catalogue/the-dirty-little-secrets-of-getting-your-dream-job_994/index.html\n",
      "Crawling: http://books.toscrape.com/catalogue/the-coming-woman-a-novel-based-on-the-life-of-the-infamous-feminist-victoria-woodhull_993/index.html\n",
      "Crawling: http://books.toscrape.com/catalogue/the-boys-in-the-boat-nine-americans-and-their-epic-quest-for-gold-at-the-1936-berlin-olympics_992/index.html\n",
      "Crawling: http://books.toscrape.com/catalogue/the-black-maria_991/index.html\n",
      "Crawling: http://books.toscrape.com/catalogue/starving-hearts-triangular-trade-trilogy-1_990/index.html\n",
      "Crawling: http://books.toscrape.com/catalogue/shakespeares-sonnets_989/index.html\n",
      "Crawling: http://books.toscrape.com/catalogue/set-me-free_988/index.html\n",
      "Crawling: http://books.toscrape.com/catalogue/scott-pilgrims-precious-little-life-scott-pilgrim-1_987/index.html\n",
      "Crawling: http://books.toscrape.com/catalogue/rip-it-up-and-start-again_986/index.html\n",
      "Crawling: http://books.toscrape.com/catalogue/our-band-could-be-your-life-scenes-from-the-american-indie-underground-1981-1991_985/index.html\n",
      "Crawling: http://books.toscrape.com/catalogue/olio_984/index.html\n",
      "Crawling: http://books.toscrape.com/catalogue/mesaerion-the-best-science-fiction-stories-1800-1849_983/index.html\n",
      "Crawling: http://books.toscrape.com/catalogue/libertarianism-for-beginners_982/index.html\n",
      "Crawling: http://books.toscrape.com/catalogue/its-only-the-himalayas_981/index.html\n",
      "Crawling: http://books.toscrape.com/catalogue/page-2.html\n"
     ]
    }
   ],
   "source": [
    "import requests\n",
    "from bs4 import BeautifulSoup\n",
    "from urllib.parse import urljoin\n",
    "\n",
    "visited = set()\n",
    "\n",
    "def crawl(url, depth=2):\n",
    "    if depth == 0 or url in visited:\n",
    "        return\n",
    "    visited.add(url)\n",
    "    print(f\"Crawling: {url}\")\n",
    "\n",
    "    try:\n",
    "        res = requests.get(url, timeout=5)\n",
    "        soup = BeautifulSoup(res.text, 'html.parser')\n",
    "    except:\n",
    "        return\n",
    "\n",
    "    for link in soup.find_all('a', href=True):\n",
    "        next_url = urljoin(url, link['href'])\n",
    "        crawl(next_url, depth-1)\n",
    "\n",
    "start_url = 'http://books.toscrape.com/'\n",
    "crawl(start_url)\n"
   ]
  },
  {
   "cell_type": "code",
   "execution_count": 19,
   "id": "17785200",
   "metadata": {},
   "outputs": [
    {
     "data": {
      "text/plain": [
       "74"
      ]
     },
     "execution_count": 19,
     "metadata": {},
     "output_type": "execute_result"
    }
   ],
   "source": [
    "len(visited)"
   ]
  },
  {
   "cell_type": "markdown",
   "id": "370f8a24",
   "metadata": {},
   "source": []
  }
 ],
 "metadata": {
  "kernelspec": {
   "display_name": ".venv",
   "language": "python",
   "name": "python3"
  },
  "language_info": {
   "codemirror_mode": {
    "name": "ipython",
    "version": 3
   },
   "file_extension": ".py",
   "mimetype": "text/x-python",
   "name": "python",
   "nbconvert_exporter": "python",
   "pygments_lexer": "ipython3",
   "version": "3.13.2"
  }
 },
 "nbformat": 4,
 "nbformat_minor": 5
}
